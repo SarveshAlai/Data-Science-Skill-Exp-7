{
  "nbformat": 4,
  "nbformat_minor": 0,
  "metadata": {
    "colab": {
      "provenance": []
    },
    "kernelspec": {
      "name": "python3",
      "display_name": "Python 3"
    },
    "language_info": {
      "name": "python"
    }
  },
  "cells": [
    {
      "cell_type": "code",
      "execution_count": 1,
      "metadata": {
        "colab": {
          "base_uri": "https://localhost:8080/"
        },
        "id": "CwXjleDG-uSF",
        "outputId": "1092fa6e-bfed-4a41-9088-9292dd73ba20"
      },
      "outputs": [
        {
          "output_type": "stream",
          "name": "stdout",
          "text": [
            "   fixed acidity  volatile acidity  citric acid  residual sugar  chlorides  \\\n",
            "0            7.4              0.70         0.00             1.9      0.076   \n",
            "1            7.8              0.88         0.00             2.6      0.098   \n",
            "2            7.8              0.76         0.04             2.3      0.092   \n",
            "3           11.2              0.28         0.56             1.9      0.075   \n",
            "4            7.4              0.70         0.00             1.9      0.076   \n",
            "\n",
            "   free sulfur dioxide  total sulfur dioxide  density    pH  sulphates  \\\n",
            "0                 11.0                  34.0   0.9978  3.51       0.56   \n",
            "1                 25.0                  67.0   0.9968  3.20       0.68   \n",
            "2                 15.0                  54.0   0.9970  3.26       0.65   \n",
            "3                 17.0                  60.0   0.9980  3.16       0.58   \n",
            "4                 11.0                  34.0   0.9978  3.51       0.56   \n",
            "\n",
            "   alcohol  quality  \n",
            "0      9.4        5  \n",
            "1      9.8        5  \n",
            "2      9.8        5  \n",
            "3      9.8        6  \n",
            "4      9.4        5  \n"
          ]
        }
      ],
      "source": [
        "import pandas as pd\n",
        "import numpy as np\n",
        "import matplotlib.pyplot as plt\n",
        "from sklearn.feature_selection import SelectKBest, chi2, f_classif\n",
        "from sklearn.preprocessing import MinMaxScaler, LabelEncoder\n",
        "\n",
        "# Load the dataset from UCI ML Repository\n",
        "url = \"/content/winequality-red[1].csv\"\n",
        "df = pd.read_csv(url, delimiter=';')\n",
        "\n",
        "# Display first few rows\n",
        "print(df.head())"
      ]
    },
    {
      "cell_type": "code",
      "source": [
        "import pandas as pd\n",
        "import numpy as np\n",
        "from sklearn.feature_selection import SelectKBest, chi2, f_classif\n",
        "from sklearn.model_selection import train_test_split\n",
        "\n",
        "# Load the dataset\n",
        "url = \"https://archive.ics.uci.edu/ml/machine-learning-databases/wine-quality/winequality-red.csv\"\n",
        "df = pd.read_csv(url, delimiter=';')\n",
        "\n",
        "# Convert quality into binary classification (Good: 7-8, Bad: 3-6) for Chi-Square test\n",
        "df['quality_category'] = np.where(df['quality'] >= 7, 1, 0)\n",
        "\n",
        "# Separate features and target\n",
        "X = df.drop(columns=['quality', 'quality_category'])\n",
        "y = df['quality_category']  # Binary target for Chi-Square test\n",
        "y_continuous = df['quality']  # Continuous target for ANOVA F-test\n",
        "\n",
        "# Split data into train and test sets (not required for feature selection but good practice)\n",
        "X_train, X_test, y_train, y_test = train_test_split(X, y, test_size=0.2, random_state=42)\n",
        "\n",
        "# ============= 1️⃣ Chi-Square Test (For Categorical Target) =============\n",
        "chi2_selector = SelectKBest(score_func=chi2, k=5)  # Select top 5 features\n",
        "X_new_chi2 = chi2_selector.fit_transform(X_train, y_train)\n",
        "\n",
        "# Print selected features\n",
        "chi2_selected_features = X.columns[chi2_selector.get_support()]\n",
        "print(\"Selected Features using Chi-Square Test:\", chi2_selected_features)\n",
        "\n",
        "# ============= 2️⃣ ANOVA F-test (Fisher’s Score) =============\n",
        "anova_selector = SelectKBest(score_func=f_classif, k=5)  # Select top 5 features\n",
        "X_new_anova = anova_selector.fit_transform(X_train, y_continuous[:len(X_train)])\n",
        "\n",
        "# Print selected features\n",
        "anova_selected_features = X.columns[anova_selector.get_support()]\n",
        "print(\"Selected Features using ANOVA F-test (Fisher’s Score):\", anova_selected_features)"
      ],
      "metadata": {
        "colab": {
          "base_uri": "https://localhost:8080/"
        },
        "id": "nByXjFFG_neB",
        "outputId": "8daa1649-f3da-46d2-99e9-86cfee247487"
      },
      "execution_count": 2,
      "outputs": [
        {
          "output_type": "stream",
          "name": "stdout",
          "text": [
            "Selected Features using Chi-Square Test: Index(['fixed acidity', 'citric acid', 'free sulfur dioxide',\n",
            "       'total sulfur dioxide', 'alcohol'],\n",
            "      dtype='object')\n",
            "Selected Features using ANOVA F-test (Fisher’s Score): Index(['citric acid', 'residual sugar', 'free sulfur dioxide', 'density',\n",
            "       'alcohol'],\n",
            "      dtype='object')\n"
          ]
        }
      ]
    }
  ]
}